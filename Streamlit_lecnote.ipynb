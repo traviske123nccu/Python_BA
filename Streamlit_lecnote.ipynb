{
 "cells": [
  {
   "cell_type": "markdown",
   "id": "589da987-5039-4a10-b0fe-26e71717e32c",
   "metadata": {},
   "source": [
    "# App Interface Design with Streamlit"
   ]
  },
  {
   "cell_type": "code",
   "execution_count": 1,
   "id": "e9c810c0-8983-4266-8718-f7141e2c240d",
   "metadata": {},
   "outputs": [],
   "source": [
    "import streamlit as st             # Build web-based front-end interface\n",
    "import requests                    # Send HTTP requests (e.g., API calls)\n",
    "import pandas as pd                # Handle tabular data (commonly with DataFrame)\n",
    "import numpy as np                 # Numerical computing with array and matrix support\n",
    "import matplotlib.pyplot as plt    # Plotting library for static visualizations\n",
    "import json                        # Parse and store JSON data\n",
    "import os                          # OS-level operations like file paths\n",
    "import difflib                     # Compute string similarity (e.g., fuzzy matching)\n",
    "\n",
    "API_KEY = \"nqj9Kh3QVKwI4AFfuwGddoSOQznWReylbYLFynzU\" # This is the API key to the USDA API"
   ]
  },
  {
   "cell_type": "markdown",
   "id": "7258948a-43fa-4201-b95b-4e6f2382d1bb",
   "metadata": {
    "jp-MarkdownHeadingCollapsed": true
   },
   "source": [
    "## Part 1 Logo & Setting up / Initializing User Data Base"
   ]
  },
  {
   "cell_type": "markdown",
   "id": "d81e7824-289d-4f26-9bc7-024c9465873d",
   "metadata": {},
   "source": [
    "### Code Explanation"
   ]
  },
  {
   "cell_type": "markdown",
   "id": "bd3180ba-3066-43fc-a7eb-b2d5708923b7",
   "metadata": {},
   "source": [
    "The `USER_DB` initialization block handles loading and preparing user data for the application.\n",
    "\n",
    "1. A variable `logo_url` stores the URL of an image icon used in the app’s header, which will be displayed in the Streamlit interface.\n",
    "\n",
    "2. A variable `USER_DB_PATH` is assigned the value `\"user_db.json\"` to specify the local file used for saving and loading user data.\n",
    "\n",
    "3. The script checks if the file at `USER_DB_PATH` exists using `os.path.exists()`:\n",
    "   - If it exists, the file is opened in read mode and parsed using `json.load(f)` to populate the `USER_DB` dictionary.\n",
    "   - If it does not exist, a default dictionary `USER_DB` is created manually with sample users.\n",
    "\n",
    "4. Each user in `USER_DB` (e.g., `\"alice\"` and `\"bob\"`) contains the following fields:\n",
    "   - `\"password\"`: a plain text password for login\n",
    "   - `\"gender\"`: either `\"male\"` or `\"female\"`\n",
    "   - `\"age\"`: numeric value in years\n",
    "   - `\"height\"`: height in centimeters\n",
    "   - `\"weight\"`: weight in kilograms\n",
    "   - `\"activity_level\"`: one of `\"inactive\"`, `\"low active\"`, `\"active\"`, or `\"very active\"`\n",
    "   - `\"goal\"`: either `\"fat_loss\"` or `\"muscle_gain\"` to indicate their objective"
   ]
  },
  {
   "cell_type": "code",
   "execution_count": 2,
   "id": "bb63f41c-c252-4463-8e1c-d799a6cf8366",
   "metadata": {},
   "outputs": [],
   "source": [
    "# --- Logo Link ---\n",
    "logo_url = \"https://cdn-icons-png.flaticon.com/512/590/590685.png\"  # Logo URL used in Streamlit header\n",
    "\n",
    "# --- File path for user DB persistence ---\n",
    "USER_DB_PATH = \"user_db.json\"  # Local file to persist user data\n",
    "\n",
    "# --- Load user DB from file if exists ---\n",
    "if os.path.exists(USER_DB_PATH):\n",
    "    with open(USER_DB_PATH, \"r\") as f:\n",
    "        USER_DB = json.load(f)             # Load user data from JSON file\n",
    "else:\n",
    "    USER_DB = {                            # If file doesn't exist, initialize in-memory user DB\n",
    "        \"alice\": {\n",
    "            \"password\": \"1234\",            # Simple password (not secure for real apps)\n",
    "            \"gender\": \"female\",\n",
    "            \"age\": 28,\n",
    "            \"height\": 160,                 # in cm\n",
    "            \"weight\": 55,                  # in kg\n",
    "            \"activity_level\": \"active\",    # User-reported activity level\n",
    "            \"goal\": \"fat_loss\"             # Goal: either \"fat_loss\" or \"muscle_gain\"\n",
    "        },\n",
    "        \"bob\": {\n",
    "            \"password\": \"5678\",\n",
    "            \"gender\": \"male\",\n",
    "            \"age\": 30,\n",
    "            \"height\": 175,\n",
    "            \"weight\": 70,\n",
    "            \"activity_level\": \"inactive\",\n",
    "            \"goal\": \"muscle_gain\"\n",
    "        }\n",
    "    }"
   ]
  },
  {
   "cell_type": "markdown",
   "id": "90ebc9a6-94c9-48a7-b072-bdba7fecc4c2",
   "metadata": {},
   "source": [
    "### Further Explanation for Lines of Code that could be Confusing"
   ]
  },
  {
   "cell_type": "markdown",
   "id": "bc3996ff-a046-4bcd-b85a-146a2a44de93",
   "metadata": {},
   "source": [
    "#### Line 9\n",
    "\n",
    "1. `open(USER_DB_PATH, \"r\")`\n",
    "\n",
    "    `open()` is a built-in Python function used to open a file.\n",
    "    \n",
    "    `\"r\"` is the mode, which stands for read. It means you want to read the file, not write to or modify it.\n",
    "\n",
    "    `USER_DB_PATH` is the file path — in this case, `\"user_db.json\"`, which is a JSON file used to store user data.\n",
    "\n",
    "2. `with ... as f:`\n",
    "\n",
    "    This is Python's `with` statement, which ensures the file is properly closed after being opened — even if an error occurs.\n",
    "    \n",
    "    `f` is the name given to the file object. You can use it to read the contents of the file.\n"
   ]
  },
  {
   "cell_type": "markdown",
   "id": "206e5a4c-70fa-4387-87c6-338eac3f9b83",
   "metadata": {
    "jp-MarkdownHeadingCollapsed": true
   },
   "source": [
    "## Part 2 Laying Out the Page and Setting What Goes to the Header"
   ]
  },
  {
   "cell_type": "markdown",
   "id": "dbb9b02e-b1ed-45f2-a66c-7442f5e02f00",
   "metadata": {},
   "source": [
    "### Code Explanation"
   ]
  },
  {
   "cell_type": "markdown",
   "id": "e9455073-5b83-4cb7-a0a8-a9cd2e804f44",
   "metadata": {},
   "source": [
    "The Streamlit setup and header display logic ensures a polished layout with branding.\n",
    "\n",
    "1. The `st.set_page_config(layout=\"centered\")` function configures the Streamlit page layout so that all content is centered. This enhances visual balance and makes the app look more professional on all screen sizes.\n",
    "\n",
    "2. The line `col_logo, col_title = st.columns([2, 6])` creates a layout with two columns using Streamlit’s layout API. The first column (1/4 width) is for the logo, and the second column (3/4 width) is for the title and subtitle text.\n",
    "\n",
    "3. Inside the `with col_logo:` block, the logo image stored at `logo_url` is rendered using `st.image()`, scaled to a width of 150 pixels to fit cleanly into the layout.\n",
    "\n",
    "4. The `with col_title:` block renders the following elements:\n",
    "   - `st.markdown(\"## Nutrition Scoring App 2.5.3\")`: A markdown-based header for the app title.\n",
    "   - `st.caption(\"Your personalized guide to smarter food choices!\")`: A short descriptive subtitle under the title.\n",
    "   - `st.caption(\"A Python Project Created by Group 02 with Python and Streamlit\")`: A final caption crediting the development team and tools used."
   ]
  },
  {
   "cell_type": "code",
   "execution_count": null,
   "id": "77ed5826-e274-486b-a3fc-825c8836c2a6",
   "metadata": {},
   "outputs": [],
   "source": [
    "# --- Streamlit page setup ---\n",
    "st.set_page_config(layout=\"centered\")  # Set layout to centered (better visual balance)\n",
    "\n",
    "# --- Header with logo aligned to title ---\n",
    "col_logo, col_title = st.columns([2, 6])  # Two columns: logo (1/4 width), title (3/4 width)\n",
    "\n",
    "with col_logo:\n",
    "    st.image(logo_url, width=150)  # Display logo image at defined width\n",
    "\n",
    "with col_title:\n",
    "    st.markdown(\"## Nutrition Scoring App 2.5.3\")  # Main title (Markdown style)\n",
    "    st.caption(\"Your personalized guide to smarter food choices!\")  # Subtitle or tagline\n",
    "    st.caption(\"A Python Project Created by Group 02 with Python and Streamlit\")  # Credit line"
   ]
  },
  {
   "cell_type": "markdown",
   "id": "a54855fd-3ee3-40e1-8091-29cf1e5109a2",
   "metadata": {
    "jp-MarkdownHeadingCollapsed": true
   },
   "source": [
    "## Part 3 Logging in"
   ]
  },
  {
   "cell_type": "markdown",
   "id": "e2fd8361-8598-4206-b1d2-9491c2bcf49c",
   "metadata": {},
   "source": [
    "### Code Explanation"
   ]
  },
  {
   "cell_type": "markdown",
   "id": "a8c5c317-91d3-48e7-990f-89dc59805def",
   "metadata": {},
   "source": [
    "The `login/register` interface uses Streamlit session state to manage user authentication and persist login data across interactions.\n",
    "\n",
    "1. The code first checks whether the key `\"logged_in\"` exists in `st.session_state`. If it doesn't, it initializes the login state by setting `st.session_state.logged_in = False`.\n",
    "\n",
    "2. If the user is not logged in, the app displays a login/registration form. A radio button `st.radio()` lets the user choose between `\"Login\"` and `\"Register\"` modes.\n",
    "\n",
    "3. In `\"Login\"` mode:\n",
    "   - Two text input fields collect the `username` and `password`, with password input masked.\n",
    "   - When the `\"Login\"` button is clicked:\n",
    "     - It verifies the entered credentials by checking if the `username` exists in `USER_DB` and the stored password matches.\n",
    "     - If valid, it sets three session state variables: `logged_in`, `user_profile`, and `username`, and triggers a rerun using `st.rerun()`.\n",
    "     - If the login fails, it shows an error message using `st.error()`.\n",
    "\n",
    "4. In `\"Register\"` mode:\n",
    "   - Three password fields are displayed to input a `username`, `new_pass`, and `confirm_pass`.\n",
    "   - Additional profile information is collected using input fields and dropdowns:\n",
    "     - `gender`, `age`, `height`, `weight`, `activity_level`, and `goal`.\n",
    "\n",
    "5. Upon clicking `\"Register\"`:\n",
    "   - The program performs a series of checks:\n",
    "     - If the `username` already exists in `USER_DB`, show a username conflict error.\n",
    "     - If `new_pass` and `confirm_pass` do not match, show a password mismatch error.\n",
    "     - If the username is shorter than 3 characters or password shorter than 4, show a warning.\n",
    "   - If all checks pass:\n",
    "     - A new user record is added to `USER_DB` with all profile info.\n",
    "     - It tries to save `USER_DB` to disk using `json.dump()` inside a `try-except` block.\n",
    "     - On success, it updates the session state and displays a success message.\n",
    "\n",
    "6. Finally, `st.stop()` is called to prevent the rest of the app from rendering unless the user has successfully logged in.\n"
   ]
  },
  {
   "cell_type": "code",
   "execution_count": null,
   "id": "434efc4d-f878-44d9-88b8-97cf88d7c431",
   "metadata": {},
   "outputs": [],
   "source": [
    "# --- Track login state ---\n",
    "if \"logged_in\" not in st.session_state:\n",
    "    st.session_state.logged_in = False  # Initialize login state\n",
    "\n",
    "# --- Show login/register form if not logged in ---\n",
    "if not st.session_state.logged_in:\n",
    "    st.markdown(\"## 🔐 Member Access\")\n",
    "    auth_mode = st.radio(\"Choose action\", [\"Login\", \"Register\"])\n",
    "\n",
    "    # --- Login form ---\n",
    "    if auth_mode == \"Login\": # What shows if user choose the Login action\n",
    "        username = st.text_input(\"Username\")\n",
    "        password = st.text_input(\"Password\", type=\"password\")\n",
    "\n",
    "        if st.button(\"Login\"): # What happens next if user hits the Login button\n",
    "            if username in USER_DB and USER_DB[username][\"password\"] == password:\n",
    "                st.session_state.logged_in = True # Change the session state from not logged in to logged in\n",
    "                st.session_state.user_profile = USER_DB[username]  # Load full user data\n",
    "                st.session_state.username = username\n",
    "                st.rerun()\n",
    "            else:\n",
    "                st.error(\"❌ Invalid username or password\")\n",
    "\n",
    "    # --- Registration form ---\n",
    "    elif auth_mode == \"Register\": # What shows if user choose the Register action\n",
    "        new_user = st.text_input(\"Choose a username(at least 3 characters)\")\n",
    "        new_pass = st.text_input(\"Create a password(at least 4 characters)\", type=\"password\")\n",
    "        confirm_pass = st.text_input(\"Confirm password(at least 4 characters)\", type=\"password\")\n",
    "\n",
    "        # Profile information fields\n",
    "        st.markdown(\"### 📋 Profile Info\")\n",
    "        col1, col2 = st.columns(2)\n",
    "        with col1:\n",
    "            gender = st.selectbox(\"Biological Sex\", [\"male\", \"female\"])\n",
    "            age = st.number_input(\"Age\", 1, 99, 25)\n",
    "            height = st.number_input(\"Height (cm)\", 100, 250, 165)\n",
    "        with col2:\n",
    "            weight = st.number_input(\"Weight (kg)\", 30, 150, 60)\n",
    "            activity_level = st.selectbox(\"Activity level\", [\"inactive\", \"low active\", \"active\", \"very active\"])\n",
    "            goal = st.selectbox(\"Goal\", [\"muscle_gain\", \"fat_loss\"])\n",
    "\n",
    "        # Validation and account creation\n",
    "        if st.button(\"Register\"):\n",
    "            if new_user in USER_DB: # Username has to be unique\n",
    "                st.error(\"❌ Username already taken.\")\n",
    "            elif new_pass != confirm_pass: # Password must match to confirm the user correctly typed in his/her desired password\n",
    "                st.error(\"❌ Passwords do not match.\")\n",
    "            elif len(new_user) < 3 or len(new_pass) < 4: \n",
    "                st.warning(\"⚠️ Username must be 3+ characters, password 4+.\")\n",
    "            else:\n",
    "                # Save new user data by updating the previous user database\n",
    "                USER_DB[new_user] = {\n",
    "                    \"password\": new_pass,\n",
    "                    \"gender\": gender,\n",
    "                    \"age\": age,\n",
    "                    \"height\": height,\n",
    "                    \"weight\": weight,\n",
    "                    \"activity_level\": activity_level,\n",
    "                    \"goal\": goal\n",
    "                }\n",
    "\n",
    "                try:\n",
    "                    with open(USER_DB_PATH, \"w\") as f:\n",
    "                        json.dump(USER_DB, f, indent=4)\n",
    "                        print(\"✅ Saved USER_DB\")\n",
    "                except Exception as e:\n",
    "                    st.error(f\"⚠️ Error saving user: {e}\")\n",
    "                    return\n",
    "\n",
    "                st.session_state.logged_in = True # Change the session state from not logged in to logged in\n",
    "                st.session_state.user_profile = USER_DB[new_user] # Log in with the new user's profile\n",
    "                st.session_state.username = new_user\n",
    "                st.success(\"✅ Registration successful! Logging you in...\")\n",
    "                st.rerun()\n",
    "\n",
    "    st.stop()  # Prevent rendering other UI before login"
   ]
  },
  {
   "cell_type": "markdown",
   "id": "2fdff69c-731f-49fa-b342-6271b93d644d",
   "metadata": {},
   "source": [
    "### Further Explanation for Lines of Code that could be Confusing"
   ]
  },
  {
   "cell_type": "markdown",
   "id": "de1bf514-8dce-4f97-950e-8e2d3bfbebd3",
   "metadata": {},
   "source": [
    "#### Line 62 to 68\n",
    "The purpose of try and except is to prevent your app from crashing if saving fails.\n",
    "\n",
    "1. `try:`  \n",
    "   Starts a try block — this is where we put code that *might fail*.\n",
    "\n",
    "2. `with open(USER_DB_PATH, \"w\") as f:`  \n",
    "   Tries to open the file defined by `USER_DB_PATH` in **write mode** (`\"w\"`).\n",
    "   - If the file doesn’t exist, Python will create it.\n",
    "   - If it exists, Python will **overwrite** it.\n",
    "     \n",
    "\n",
    "3. `json.dump(USER_DB, f, indent=4)`\n",
    "\n",
    "   The `json.dump()` is a method from Python’s built-in json module. It writes a Python object (like a dictionary or list) to a file in JSON format.\n",
    "\n",
    "   \n",
    "   In this case, it takes the `USER_DB` Python dictionary and **saves it in JSON format** to the file `f`.\n",
    "   - `indent=4` makes it human-readable (pretty printed).\n",
    "     \n",
    "\n",
    "5. `print(\"✅ Saved USER_DB\")`  \n",
    "   Shows a message in the terminal (not Streamlit) that saving succeeded.\n",
    "\n",
    "6. `except Exception as e:`  \n",
    "   If anything goes wrong (like the path doesn’t exist), Python jumps here.\n",
    "\n",
    "7. `st.error(f\"⚠️ Error saving user: {e}\")`  \n",
    "   Shows an error message in the **Streamlit app UI**, using the exception `e`.\n",
    "\n",
    "8. `return`  \n",
    "   Stops further execution (especially inside a function).\n"
   ]
  },
  {
   "cell_type": "markdown",
   "id": "7628fe85-2119-4842-a79b-8e9c8da50965",
   "metadata": {
    "jp-MarkdownHeadingCollapsed": true
   },
   "source": [
    "## Part 4 After Logged in - Logging Out"
   ]
  },
  {
   "cell_type": "markdown",
   "id": "175e58a0-6184-435f-9ef1-33d2d5dec58d",
   "metadata": {},
   "source": [
    "### Code Explanation"
   ]
  },
  {
   "cell_type": "markdown",
   "id": "c6baa989-cecd-4357-b8d5-b5591edee46b",
   "metadata": {},
   "source": [
    "The `sidebar logout` block provides a user-friendly way to display the current login status and allow the user to log out via a sidebar interface in Streamlit.\n",
    "\n",
    "1. It checks if both `\"logged_in\"` and `\"username\"` exist in `st.session_state`. These conditions confirm the user is logged in.\n",
    "\n",
    "2. If the user is authenticated:\n",
    "   - A welcome message is shown in the sidebar using `st.sidebar.success()`, dynamically displaying the current `username`.\n",
    "\n",
    "3. Below the greeting, a logout button labeled `\"📜 Logout\"` is rendered using `st.sidebar.button()`.\n",
    "\n",
    "4. When the logout button is clicked, the `on_click` callback triggers `st.session_state.clear()`, which removes all session variables, effectively logging the user out and resetting the app state."
   ]
  },
  {
   "cell_type": "code",
   "execution_count": null,
   "id": "725961a0-1454-44d1-acd6-c2b549962b46",
   "metadata": {},
   "outputs": [],
   "source": [
    "# --- Sidebar logout ---\n",
    "if st.session_state.get(\"logged_in\") and st.session_state.get(\"username\"):\n",
    "    st.sidebar.success(f\"👋 Logged in as {st.session_state.username}\")  # Welcome message\n",
    "    st.sidebar.button(\n",
    "        \"📜 Logout\", \n",
    "        on_click=lambda: st.session_state.clear()  # Clear session on logout\n",
    "    )"
   ]
  },
  {
   "cell_type": "markdown",
   "id": "6abd945e-445d-42f5-9659-37f3b4d06b2a",
   "metadata": {
    "jp-MarkdownHeadingCollapsed": true
   },
   "source": [
    "## Part 5 After Logged in - The Searching Engine"
   ]
  },
  {
   "cell_type": "markdown",
   "id": "9961c49b-f0aa-464e-9f26-b9d17fe17bd6",
   "metadata": {},
   "source": [
    "### Code Explanation"
   ]
  },
  {
   "cell_type": "markdown",
   "id": "9fa01ee1-7169-4c7c-b88f-2d13a43d3734",
   "metadata": {},
   "source": [
    "This section defines the main logic flow of the app, combining user profile input, energy calculations, search functionality, and result visualization.\n",
    "\n",
    "1. If the `user_profile` exists in `st.session_state`, it extracts the user's data fields including `gender`, `age`, `height`, `weight`, `activity_level`, and `goal`.\n",
    "\n",
    "2. The sidebar displays the extracted profile using `st.sidebar.write()` with formatted text.\n",
    "\n",
    "3. Energy needs are calculated using two custom functions:\n",
    "   - `calculate_tee()` for Total Energy Expenditure (TEE).\n",
    "   - `calculate_bmr()` for Basal Metabolic Rate (BMR).\n",
    "   The BMI is also computed using the standard formula.\n",
    "\n",
    "4. The estimated time and distance required to burn 1/3 of TEE (one meal’s worth) are computed via `calories_to_exercise_with_distance()` and shown in the sidebar per activity.\n",
    "\n",
    "5. In the main panel, users can enter a food keyword (default is `\"beef\"`) to search USDA’s API.\n",
    "\n",
    "6. Once the “Find Foods” button is clicked:\n",
    "   - Step 1: The `search_usda_foods()` function retrieves a list of `fdcIds` using the keyword.\n",
    "   - Step 2: These IDs are passed to `fetch_multiple_foods()` to retrieve full nutritional data.\n",
    "   - Step 3: The raw API data is processed into a structured `DataFrame` using `extract_nutrients_df()`.\n",
    "\n",
    "7. Step 4: If the dataset contains calorie data, the app estimates how much activity is needed to burn the average calories.\n",
    "\n",
    "8. Step 5: Using the user profile, the TEE and target macronutrients per meal are calculated. Then `score_menu()` is called to generate a weighted score for each food based on how closely it matches the user's nutritional targets.\n",
    "\n",
    "9. The scored results are displayed in a table using `st.dataframe()` and introduced with a formatted subheader.\n",
    "\n",
    "10. Finally, a radar chart is rendered for each food using `plot_radar_chart()`, iterating through each row and displaying the nutrient breakdown visually in two-column layout using `st.columns(2)`.\n"
   ]
  },
  {
   "cell_type": "code",
   "execution_count": null,
   "id": "67087f43-abf0-4471-9d97-b546ef087a31",
   "metadata": {},
   "outputs": [],
   "source": [
    "# --- Input Section (for logged-in users only) ---\n",
    "if \"user_profile\" in st.session_state:\n",
    "    profile = st.session_state.user_profile\n",
    "\n",
    "    # Extract personal info from session state\n",
    "    gender = profile[\"gender\"]\n",
    "    age = profile[\"age\"]\n",
    "    height = profile[\"height\"]\n",
    "    weight = profile[\"weight\"]\n",
    "    activity_level = profile[\"activity_level\"]\n",
    "    goal = profile[\"goal\"]\n",
    "\n",
    "    # --- Sidebar: Display user profile and metrics ---\n",
    "    st.sidebar.markdown(\"### 👤 Your Profile\")\n",
    "    st.sidebar.write(f\"**👫 Gender:** {gender}\")\n",
    "    st.sidebar.write(f\"**🎂 Age:** {age} years\")\n",
    "    st.sidebar.write(f\"**📏 Height:** {height} cm\")\n",
    "    st.sidebar.write(f\"**⚖️ Weight:** {weight} kg\")\n",
    "    st.sidebar.write(f\"**🏃‍♂️ Activity Level:** {activity_level}\")\n",
    "    st.sidebar.write(f\"**🎯 Goal:** {goal.replace('_', ' ').title()}\")\n",
    "\n",
    "    # Calculate energy needs and activity equivalents\n",
    "    tee = calculate_tee(gender, age, height, weight, activity_level)      # Total Energy Expenditure\n",
    "    bmi = weight / ((height / 100) ** 2)                                   # Body Mass Index\n",
    "    burn_data = calories_to_exercise_with_distance(tee / 3, bmi, age)     # Burn 1 meal worth of kcal\n",
    "\n",
    "    bmr = calculate_bmr(gender, age, height, weight)                      # Basal Metabolic Rate\n",
    "\n",
    "    # --- Sidebar: Display BMR and TEE results ---\n",
    "    st.sidebar.markdown(\"### 🔥 Daily Energy Estimates\")\n",
    "    st.sidebar.write(f\"**💤 BMR:** **{round(bmr)}** kcal/day\")\n",
    "    st.sidebar.write(f\"**🔥 TEE:** **{round(tee)}** kcal/day\")\n",
    "\n",
    "    # --- Sidebar: Display burn estimates for 1/3 TEE ---\n",
    "    st.sidebar.markdown(\"### 🏃 Burn 1 Meal (~⅓ TEE):\")\n",
    "    for activity, stats in burn_data.items():\n",
    "        st.sidebar.write(f\"**{activity}**: {stats['time_min']} min ≈ {stats['distance_km']} km\")\n",
    "\n",
    "    # --- Main panel: search bar ---\n",
    "    st.markdown(\"### 🔍 Search Food by Keyword\")\n",
    "    keyword = st.text_input(\"Search food keyword\", value=\"beef\")  # default = \"beef\"\n",
    "    submitted = st.button(\"🔎 Find Foods\")\n",
    "\n",
    "    # --- Search logic begins ---\n",
    "    if submitted:\n",
    "        # Step 1: Search fdcIds by keyword\n",
    "        fdc_ids = search_usda_foods(keyword, API_KEY)\n",
    "\n",
    "        # Step 2: Fetch nutrient data by fdcIds\n",
    "        foods = fetch_multiple_foods(fdc_ids, API_KEY)\n",
    "\n",
    "        # Step 3: Convert to structured dataframe\n",
    "        df = extract_nutrients_df(foods)\n",
    "\n",
    "        # Step 4: (Optional) Estimate how much effort needed to burn average food calories\n",
    "        if \"Calories\" in df.columns:\n",
    "            avg_calories = df[\"Calories\"].mean()\n",
    "            bmi = weight / ((height / 100) ** 2)\n",
    "            exercise_data = calories_to_exercise_with_distance(avg_calories, bmi, age)\n",
    "\n",
    "        # Step 5: Score food based on user profile\n",
    "        tee = calculate_tee(gender, age, height, weight, activity_level)\n",
    "        targets = compute_target_macros_per_meal(tee)\n",
    "        scored = score_menu(df, targets, tee, goal)\n",
    "\n",
    "        # --- Output ranked results ---\n",
    "        st.subheader(\n",
    "            f\"🏆 Top Foods for '{keyword}' (Goal: {goal.replace('_', ' ').title()})\"\n",
    "        )\n",
    "        st.dataframe(scored)  # Show table with ranking\n",
    "\n",
    "        # --- Show radar charts for each food item ---\n",
    "        cols = st.columns(2)  # Two-column layout for radar charts\n",
    "        for i, (_, row) in enumerate(scored.iterrows()):\n",
    "            with cols[i % 2]:\n",
    "                st.markdown(f\"#### 🥗 {row['Food']} – {row['Brand']}\")\n",
    "                plot_radar_chart(row)\n"
   ]
  },
  {
   "cell_type": "markdown",
   "id": "f41b563d-99c5-48f1-96d5-8c07d9d53ec0",
   "metadata": {},
   "source": [
    "### Further Explanation for Lines of Code that could be Confusing"
   ]
  },
  {
   "cell_type": "markdown",
   "id": "f43b76d5-18fd-4b3f-aaaf-e3f4c0a54238",
   "metadata": {},
   "source": [
    "#### Line 74 to 75\n",
    "1. `scored.iterrows()` returns each row in the DataFrame as a `(index, row)` tuple.\n",
    "   \n",
    "2. `enumerate(...)` adds a counter `i` (0, 1, 2, ...).\n",
    "\n",
    "3. `_` is used to ignore the original index since it's not needed. The reason it's not needed is because it has no meaning after we sort the data based on nutrient score.\n",
    "\n",
    "4. `row` contains the actual data from the DataFrame.\n",
    "\n",
    "5. `cols[i % 2]` alternates between `cols[0]` and `cols[1]` using the modulo operator (`% 2`), placing content in the left and right columns in turn.\n",
    "\n",
    "6. The `with` block scopes layout content inside the chosen column."
   ]
  }
 ],
 "metadata": {
  "kernelspec": {
   "display_name": "Python [conda env:base] *",
   "language": "python",
   "name": "conda-base-py"
  },
  "language_info": {
   "codemirror_mode": {
    "name": "ipython",
    "version": 3
   },
   "file_extension": ".py",
   "mimetype": "text/x-python",
   "name": "python",
   "nbconvert_exporter": "python",
   "pygments_lexer": "ipython3",
   "version": "3.12.2"
  }
 },
 "nbformat": 4,
 "nbformat_minor": 5
}
